{
 "cells": [
  {
   "cell_type": "code",
   "execution_count": null,
   "id": "8d769410-cf99-4595-ab1a-0e2725e0532f",
   "metadata": {},
   "outputs": [],
   "source": [
    "# 1. Write a Python program to construct the following pattern, using a nested for loop.\n",
    "\n",
    "# *\n",
    "# * *\n",
    "# * * *\n",
    "# * * * *\n",
    "# * * * * *\n",
    "# * * * *\n",
    "# * * *\n",
    "# * *\n",
    "# *"
   ]
  },
  {
   "cell_type": "code",
   "execution_count": 1,
   "id": "c48913ff-ba46-4222-b846-effab32d4105",
   "metadata": {},
   "outputs": [
    {
     "name": "stdout",
     "output_type": "stream",
     "text": [
      "* \n",
      "* * \n",
      "* * * \n",
      "* * * * \n",
      "* * * * * \n",
      "* * * * \n",
      "* * * \n",
      "* * \n",
      "* \n"
     ]
    }
   ],
   "source": [
    "for i in range(1, 6):\n",
    "    for j in range(1, i + 1):\n",
    "        print(\"*\", end=\" \")\n",
    "    print()\n",
    "\n",
    "for i in range(4, 0, -1):\n",
    "    for j in range(1, i + 1):\n",
    "        print(\"*\", end=\" \")\n",
    "    print()"
   ]
  },
  {
   "cell_type": "code",
   "execution_count": null,
   "id": "f6d0dad2-3f98-4725-a2a8-854195743a85",
   "metadata": {},
   "outputs": [],
   "source": [
    "# 2. Write a Python program to check whether an alphabet which is given by user\n",
    "# in input prompt is a vowel or consonant"
   ]
  },
  {
   "cell_type": "code",
   "execution_count": 3,
   "id": "69b2e99f-cfe8-4004-bfc9-457d8df5615b",
   "metadata": {},
   "outputs": [
    {
     "name": "stdin",
     "output_type": "stream",
     "text": [
      "Enter an alphabet:  s\n"
     ]
    },
    {
     "name": "stdout",
     "output_type": "stream",
     "text": [
      "s is a consonant.\n"
     ]
    }
   ],
   "source": [
    "alphabet = input(\"Enter an alphabet: \")\n",
    "\n",
    "if alphabet.isalpha() and len(alphabet) == 1:\n",
    "    if alphabet.lower() in \"aeiou\":\n",
    "        print(f\"{alphabet} is a vowel.\")\n",
    "    else:\n",
    "        print(f\"{alphabet} is a consonant.\")\n",
    "else:\n",
    "    print(\"Invalid input. Please enter a single alphabet.\")"
   ]
  },
  {
   "cell_type": "code",
   "execution_count": null,
   "id": "ca8c2901-24bc-4bef-a005-942c9184d044",
   "metadata": {},
   "outputs": [],
   "source": [
    "# 3. Write a Python program to create the multiplication table (from 1 to 10)\n",
    "# of a number and the number will be given by user in input prompt.\n",
    "# Expected Output:"
   ]
  },
  {
   "cell_type": "code",
   "execution_count": 5,
   "id": "a58ea43d-6be8-4b90-82c9-15f70fa1e159",
   "metadata": {},
   "outputs": [
    {
     "name": "stdin",
     "output_type": "stream",
     "text": [
      "Enter a number:  7\n"
     ]
    },
    {
     "name": "stdout",
     "output_type": "stream",
     "text": [
      "Multiplication table of 7:\n",
      "7 x 1 = 7\n",
      "7 x 2 = 14\n",
      "7 x 3 = 21\n",
      "7 x 4 = 28\n",
      "7 x 5 = 35\n",
      "7 x 6 = 42\n",
      "7 x 7 = 49\n",
      "7 x 8 = 56\n",
      "7 x 9 = 63\n",
      "7 x 10 = 70\n"
     ]
    }
   ],
   "source": [
    "number = int(input(\"Enter a number: \"))\n",
    "\n",
    "print(f\"Multiplication table of {number}:\")\n",
    "for i in range(1, 11):\n",
    "    result = number * i\n",
    "    print(f\"{number} x {i} = {result}\")"
   ]
  },
  {
   "cell_type": "code",
   "execution_count": null,
   "id": "0d74c7f4-428f-412f-9e6c-5259f36bc2dc",
   "metadata": {},
   "outputs": [],
   "source": [
    "# 4. Write a Python program to guess a number between 1 and 9.\n",
    "# Note : User is prompted to enter a guess. If the user guesses wrong then\n",
    "# the prompt appears again until the guess is correct, on successful guess,\n",
    "# user will get a \"Well guessed!\" message, and the program will exit."
   ]
  },
  {
   "cell_type": "code",
   "execution_count": 11,
   "id": "042bdd7d-d3bc-4767-8590-6c8897c4e074",
   "metadata": {},
   "outputs": [
    {
     "name": "stdin",
     "output_type": "stream",
     "text": [
      "Guess a number between 1 and 9:  1\n"
     ]
    },
    {
     "name": "stdout",
     "output_type": "stream",
     "text": [
      "Try again!\n"
     ]
    },
    {
     "name": "stdin",
     "output_type": "stream",
     "text": [
      "Guess a number between 1 and 9:  2\n"
     ]
    },
    {
     "name": "stdout",
     "output_type": "stream",
     "text": [
      "Try again!\n"
     ]
    },
    {
     "name": "stdin",
     "output_type": "stream",
     "text": [
      "Guess a number between 1 and 9:  3\n"
     ]
    },
    {
     "name": "stdout",
     "output_type": "stream",
     "text": [
      "Well guessed!\n"
     ]
    }
   ],
   "source": [
    "import random\n",
    "\n",
    "number = random.randint(1, 9)\n",
    "\n",
    "while True:\n",
    "    guess = int(input(\"Guess a number between 1 and 9: \"))\n",
    "\n",
    "    if guess == number:\n",
    "        print(\"Well guessed!\")\n",
    "        break\n",
    "    else:\n",
    "        print(\"Try again!\")"
   ]
  },
  {
   "cell_type": "code",
   "execution_count": null,
   "id": "d0fa8347-af55-4382-b0c6-b848dcb52ee0",
   "metadata": {},
   "outputs": [],
   "source": [
    "# 5. Write a  Python program to filter the height and width of students, which are stored in a dictionary.\n",
    "# Original Dictionary:\n",
    "# {'Cierra Vega': (6.2, 70), 'Alden Cantrell': (5.9, 65), 'Kierra Gentry': (6.0, 68), 'Pierre Cox': (5.8, 66)}\n",
    "# Height > 6ft and Weight> 70kg:\n",
    "# {'Cierra Vega': (6.2, 70)}"
   ]
  },
  {
   "cell_type": "code",
   "execution_count": 15,
   "id": "562c5c1e-8de2-4c4d-8d99-7537ff535e3a",
   "metadata": {},
   "outputs": [
    {
     "name": "stdout",
     "output_type": "stream",
     "text": [
      "{}\n"
     ]
    }
   ],
   "source": [
    "students = {\n",
    "    'Cierra Vega': (6.2, 70),\n",
    "    'Alden Cantrell': (5.9, 65),\n",
    "    'Kierra Gentry': (6.0, 68),\n",
    "    'Pierre Cox': (5.8, 66)\n",
    "}\n",
    "\n",
    "filtered_students = {student: height_weight for student, height_weight in students.items() if height_weight[0] > 6 and height_weight[1] > 70}\n",
    "\n",
    "print(filtered_students)"
   ]
  },
  {
   "cell_type": "code",
   "execution_count": null,
   "id": "e85d8792-ed1c-4c74-ac0a-6aae77e819d0",
   "metadata": {},
   "outputs": [],
   "source": [
    "# 6. A  Python dictionary contains List as a value. Write a Python program to clear the list values in the said dictionary.\n",
    "# Original Dictionary:\n",
    "# {'C1': [10, 20, 30], 'C2': [20, 30, 40], 'C3': [12, 34]}"
   ]
  },
  {
   "cell_type": "code",
   "execution_count": 17,
   "id": "6ead2f53-e10a-4ddf-8f38-ffbb15d0a8b0",
   "metadata": {},
   "outputs": [
    {
     "name": "stdout",
     "output_type": "stream",
     "text": [
      "{'C1': [], 'C2': [], 'C3': []}\n"
     ]
    }
   ],
   "source": [
    "dictionary = {'C1': [10, 20, 30], 'C2': [20, 30, 40], 'C3': [12, 34]}\n",
    "\n",
    "for key in dictionary:\n",
    "    dictionary[key].clear()\n",
    "\n",
    "print(dictionary)"
   ]
  },
  {
   "cell_type": "code",
   "execution_count": null,
   "id": "167c3de8-1e35-41a7-922b-912eb4d96b09",
   "metadata": {},
   "outputs": [],
   "source": [
    "# 7.  Rivers: Make a dictionary containing three major rivers and the country\n",
    "# each river runs through. One key-value pair might be 'nile': 'egypt'.\n",
    "# • Use a loop to print a sentence about each river, such as The Nile runs\n",
    "# through Egypt.\n",
    "# • Use a loop to print the name of each river included in the dictionary.\n",
    "# • Use a loop to print the name of each country included in the dictionary."
   ]
  },
  {
   "cell_type": "code",
   "execution_count": 19,
   "id": "d236a7f4-aa31-411f-9b36-9ef60bacfb70",
   "metadata": {},
   "outputs": [
    {
     "name": "stdout",
     "output_type": "stream",
     "text": [
      "The nile runs through egypt.\n",
      "The amazon runs through brazil.\n",
      "The yangtze runs through china.\n",
      "\n",
      "Rivers:\n",
      "nile\n",
      "amazon\n",
      "yangtze\n",
      "\n",
      "Countries:\n",
      "egypt\n",
      "brazil\n",
      "china\n"
     ]
    }
   ],
   "source": [
    "rivers = {\n",
    "    'nile': 'egypt',\n",
    "    'amazon': 'brazil',\n",
    "    'yangtze': 'china'\n",
    "}\n",
    "\n",
    "# Print a sentence about each river\n",
    "for river, country in rivers.items():\n",
    "    print(f\"The {river} runs through {country}.\")\n",
    "\n",
    "# Print the name of each river\n",
    "print(\"\\nRivers:\")\n",
    "for river in rivers.keys():\n",
    "    print(river)\n",
    "\n",
    "# Print the name of each country\n",
    "print(\"\\nCountries:\")\n",
    "for country in rivers.values():\n",
    "    print(country)"
   ]
  },
  {
   "cell_type": "code",
   "execution_count": null,
   "id": "8904b00d-2fd9-45f2-b7e5-968226f2cfaf",
   "metadata": {},
   "outputs": [],
   "source": [
    "# 8. Movie Tickets: A movie theater charges different ticket prices depending on\n",
    "# a person’s age. If a person is under the age of 3, the ticket is free; if they are\n",
    "# between 3 and 12, the ticket is $10; and if they are over age 12, the ticket is\n",
    "# $15. Write a loop in which you ask users their age, and then tell them the cost\n",
    "# of their movie ticket."
   ]
  },
  {
   "cell_type": "code",
   "execution_count": null,
   "id": "496870b5-6e34-4652-bfe9-1b6d55d0e87c",
   "metadata": {},
   "outputs": [
    {
     "name": "stdin",
     "output_type": "stream",
     "text": [
      "Enter your age:  20\n"
     ]
    },
    {
     "name": "stdout",
     "output_type": "stream",
     "text": [
      "Your ticket costs $15.\n"
     ]
    },
    {
     "name": "stdin",
     "output_type": "stream",
     "text": [
      "Do you want to continue? (y/n):  y\n"
     ]
    }
   ],
   "source": [
    "while True:\n",
    "    age = int(input(\"Enter your age: \"))\n",
    "\n",
    "    if age < 0:\n",
    "        print(\"Invalid age. Please enter a positive number.\")\n",
    "    elif age < 3:\n",
    "        print(\"Your ticket is free.\")\n",
    "    elif age <= 12:\n",
    "        print(\"Your ticket costs $10.\")\n",
    "    else:\n",
    "        print(\"Your ticket costs $15.\")\n",
    "\n",
    "    choice = input(\"Do you want to continue? (y/n): \")\n",
    "    if choice.lower() != \"y\":\n",
    "        break"
   ]
  }
 ],
 "metadata": {
  "kernelspec": {
   "display_name": "Python 3 (ipykernel)",
   "language": "python",
   "name": "python3"
  },
  "language_info": {
   "codemirror_mode": {
    "name": "ipython",
    "version": 3
   },
   "file_extension": ".py",
   "mimetype": "text/x-python",
   "name": "python",
   "nbconvert_exporter": "python",
   "pygments_lexer": "ipython3",
   "version": "3.12.4"
  }
 },
 "nbformat": 4,
 "nbformat_minor": 5
}
